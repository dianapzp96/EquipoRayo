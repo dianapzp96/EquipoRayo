{
 "cells": [
  {
   "cell_type": "code",
   "execution_count": null,
   "metadata": {},
   "outputs": [],
   "source": [
    "!conda activate dashenv"
   ]
  },
  {
   "cell_type": "code",
   "execution_count": null,
   "metadata": {},
   "outputs": [],
   "source": [
    "df"
   ]
  },
  {
   "cell_type": "code",
   "execution_count": null,
   "metadata": {},
   "outputs": [],
   "source": [
    "import plotly\n",
    "plotly.__version__\n",
    "import pandas as pd\n",
    "import plotly.graph_objects as go\n",
    "filename = \"https://raw.githubusercontent.com/spencerlawrence36/basic/master/places.csv\"\n",
    "df = pd.read_csv(filename, encoding='utf-8')\n",
    "df = df.head(100)\n",
    "df.columns\n",
    "fig=go.Figure(go.Scattermapbox(\n",
    "               lat=[df.loc[0, 'lat']],\n",
    "               lon=[df.loc[0, 'lng']],\n",
    "               mode='markers',\n",
    "               marker=dict(size=10, color='red')\n",
    "            ))\n",
    "        \n",
    "\n",
    "fig.update_layout(mapbox=dict(#accesstoken=mapbox_access_token,\n",
    "                              bearing=0,\n",
    "                              center=dict(lat=33.49,\n",
    "                              lon=-112.05),\n",
    "                              pitch=0,\n",
    "                              zoom=8.5,\n",
    "                              style='carto-positron'));\n",
    "# the last update can be performed simply as:\n",
    "#fig.update_mapboxes (the above unpacked dict); for beginners it's more clear the initial update \n",
    "frames = [go.Frame(data= [go.Scattermapbox(\n",
    "                                       lat=df.loc[:k+1, 'lat'], \n",
    "                                       lon=df.loc[:k+1, 'lng'])], \n",
    "                   traces= [0],\n",
    "                   name=f'frame{k}'      \n",
    "                  )for k  in  range(len(df))]    \n",
    "fig.update(frames=frames);\n",
    "sliders = [dict(steps= [dict(method= 'animate',\n",
    "                           args= [[ f'frame{k}'],\n",
    "                                  dict(mode= 'immediate',\n",
    "                                  frame= dict(duration=200, redraw= True ),\n",
    "                                              transition=dict( duration= 0))\n",
    "                                 ]) for k in range(len(df))], \n",
    "                transition= dict(duration= 0 ),\n",
    "                x=0,#slider starting position  \n",
    "                y=0, \n",
    "                currentvalue=dict(font=dict(size=12), \n",
    "                                  prefix='Point: ', \n",
    "                                  visible=True, \n",
    "                                  xanchor= 'center'),  \n",
    "                len=1.0)\n",
    "           ]\n",
    "fig.update_layout(updatemenus=[dict(type='buttons', showactive=False,\n",
    "                                y=0,\n",
    "                                x=1.05,\n",
    "                                xanchor='right',\n",
    "                                yanchor='top',\n",
    "                                pad=dict(t=0, r=10),\n",
    "                                buttons=[dict(label='Play',\n",
    "                                              method='animate',\n",
    "                                              args=[None, \n",
    "                                                    dict(frame=dict(duration=100, \n",
    "                                                                    redraw=True),\n",
    "                                                         transition=dict(duration=0),\n",
    "                                                         fromcurrent=True,\n",
    "                                                         mode='immediate'\n",
    "                                                        )\n",
    "                                                   ]\n",
    "                                             )\n",
    "                                        ]\n",
    "                               )\n",
    "                          ],\n",
    "                  sliders=sliders);\n",
    "fig.show()"
   ]
  },
  {
   "cell_type": "code",
   "execution_count": null,
   "metadata": {},
   "outputs": [],
   "source": [
    "!conda activate dashenv"
   ]
  },
  {
   "cell_type": "code",
   "execution_count": null,
   "metadata": {},
   "outputs": [],
   "source": [
    "import pandas as pd\n",
    "from datetime import timedelta\n",
    "\n",
    "discharges = pd.read_csv('./data/discharges.csv',\n",
    "                         header=0,\n",
    "                         delimiter=',',\n",
    "                         index_col=0,\n",
    "                         names=[\n",
    "                             'date', 'longitude', 'latitude', 'polarity',\n",
    "                             'magnitude', 'current'\n",
    "                         ],\n",
    "                         parse_dates=['date'])\n",
    "outages = pd.read_csv('./data/outages.csv',\n",
    "                      header=0,\n",
    "                      delimiter=',',\n",
    "                      index_col=0,\n",
    "                      names=[\n",
    "                          'date', 'year', 'time', 'cause', 'outages_number',\n",
    "                          'r_inf', 'r_sup'\n",
    "                      ],\n",
    "                      parse_dates=['date'])\n",
    "towers = pd.read_csv('./data/towers.csv',\n",
    "                     header=0,\n",
    "                     delimiter=',',\n",
    "                     names=['longitude', 'latitude'])\n",
    "discharges_all_outages = pd.DataFrame(columns=discharges.columns)\n",
    "\n",
    "\n",
    "def Discharges_before_outage_by_time(outage_date, time_range, min_before=5):\n",
    "    datetime_f = outage_date - timedelta(minutes=min_before)\n",
    "    datetime_i = datetime_f - timedelta(minutes=time_range)\n",
    "    discharges_copy = discharges.copy()\n",
    "    discharges_before_outage_by_time = discharges_copy[\n",
    "        (discharges['date'] > datetime_i)\n",
    "        & (discharges_copy['date'] < datetime_f)].reset_index()\n",
    "    return discharges_before_outage_by_time\n"
   ]
  },
  {
   "cell_type": "code",
   "execution_count": null,
   "metadata": {},
   "outputs": [],
   "source": [
    "outage_date = outages.loc['59', \"date\"]"
   ]
  },
  {
   "cell_type": "code",
   "execution_count": null,
   "metadata": {},
   "outputs": [],
   "source": [
    "discharges_before = Discharges_before_outage_by_time(outage_date, 5, min_before=0)"
   ]
  },
  {
   "cell_type": "code",
   "execution_count": null,
   "metadata": {},
   "outputs": [],
   "source": [
    "discharges_before"
   ]
  },
  {
   "cell_type": "code",
   "execution_count": null,
   "metadata": {},
   "outputs": [],
   "source": [
    "import plotly\n",
    "plotly.__version__\n",
    "import pandas as pd\n",
    "import plotly.graph_objects as go\n",
    "df = discharges_before\n",
    "fig=go.Figure(go.Scattermapbox(\n",
    "               lat=[df.loc[0, 'latitude']],\n",
    "               lon=[df.loc[0, 'longitude']],\n",
    "               mode='markers',\n",
    "               marker=dict(size=10, color='red')\n",
    "            ))\n",
    "        \n",
    "\n",
    "fig.update_layout(height=700,mapbox=dict(#accesstoken=mapbox_access_token,\n",
    "                              bearing=0,\n",
    "                              center=dict(lat=6.73, lon=-73.9),\n",
    "                              pitch=0,\n",
    "                              zoom=8.5,\n",
    "                              style='carto-positron'));\n",
    "# the last update can be performed simply as:\n",
    "#fig.update_mapboxes (the above unpacked dict); for beginners it's more clear the initial update \n",
    "frames = [go.Frame(data= [go.Scattermapbox(\n",
    "                                       lat=df.loc[:k+1, 'latitude'], \n",
    "                                       lon=df.loc[:k+1, 'longitude'])], \n",
    "                   traces= [0],\n",
    "                   name=f'frame{k}'      \n",
    "                  )for k  in  range(len(df))]    \n",
    "fig.update(frames=frames);\n",
    "sliders = [dict(steps= [dict(method= 'animate',\n",
    "                           args= [[ f'frame{k}'],\n",
    "                                  dict(mode= 'immediate',\n",
    "                                  frame= dict(duration=0.05, redraw= True ),\n",
    "                                              transition=dict( duration= 0))\n",
    "                                 ]) for k in range(len(df))], \n",
    "                transition= dict(duration= 0 ),\n",
    "                x=0,#slider starting position  \n",
    "                y=0, \n",
    "                currentvalue=dict(font=dict(size=12), \n",
    "                                  prefix='Point: ', \n",
    "                                  visible=True, \n",
    "                                  xanchor= 'center'),  \n",
    "                len=1.0)\n",
    "           ]\n",
    "fig.update_layout(updatemenus=[dict(type='buttons', showactive=False,\n",
    "                                y=0,\n",
    "                                x=1.05,\n",
    "                                xanchor='right',\n",
    "                                yanchor='top',\n",
    "                                pad=dict(t=0, r=10),\n",
    "                                buttons=[dict(label='Play',\n",
    "                                              method='animate',\n",
    "                                              args=[None, \n",
    "                                                    dict(frame=dict(duration=100, \n",
    "                                                                    redraw=True),\n",
    "                                                         transition=dict(duration=0),\n",
    "                                                         fromcurrent=True,\n",
    "                                                         mode='immediate'\n",
    "                                                        )\n",
    "                                                   ]\n",
    "                                             )\n",
    "                                        ]\n",
    "                               )\n",
    "                          ],\n",
    "                  sliders=sliders);\n",
    "fig.show()"
   ]
  },
  {
   "cell_type": "code",
   "execution_count": null,
   "metadata": {},
   "outputs": [],
   "source": [
    "df.info()"
   ]
  },
  {
   "cell_type": "code",
   "execution_count": null,
   "metadata": {},
   "outputs": [],
   "source": [
    "df.resample('min',on='date').sum()"
   ]
  },
  {
   "cell_type": "code",
   "execution_count": null,
   "metadata": {},
   "outputs": [],
   "source": []
  }
 ],
 "metadata": {
  "kernelspec": {
   "display_name": "Python 3",
   "language": "python",
   "name": "python3"
  },
  "language_info": {
   "codemirror_mode": {
    "name": "ipython",
    "version": 3
   },
   "file_extension": ".py",
   "mimetype": "text/x-python",
   "name": "python",
   "nbconvert_exporter": "python",
   "pygments_lexer": "ipython3",
   "version": "3.7.7"
  }
 },
 "nbformat": 4,
 "nbformat_minor": 4
}
